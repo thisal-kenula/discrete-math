{
 "cells": [
  {
   "cell_type": "code",
   "execution_count": 43,
   "metadata": {},
   "outputs": [],
   "source": [
    "from sympy import *"
   ]
  },
  {
   "cell_type": "code",
   "execution_count": 44,
   "metadata": {},
   "outputs": [],
   "source": [
    "a, b, c, d, n = symbols('a b c d n')\n",
    "# Polynomial fitting\n",
    "ex = a*n**3 + b*n**2 + c*n +d"
   ]
  },
  {
   "cell_type": "code",
   "execution_count": 45,
   "metadata": {},
   "outputs": [
    {
     "name": "stdout",
     "output_type": "stream",
     "text": [
      "d\n",
      "a + b + c + d\n",
      "8*a + 4*b + 2*c + d\n",
      "27*a + 9*b + 3*c + d\n"
     ]
    }
   ],
   "source": [
    "for i in range(4): # Change the integer to number of variables\n",
    "    print(ex.subs(n, i))"
   ]
  },
  {
   "cell_type": "code",
   "execution_count": null,
   "metadata": {},
   "outputs": [
    {
     "data": {
      "text/latex": [
       "$\\displaystyle \\left[\\begin{matrix}0 & 0 & 0 & 1\\\\1 & 1 & 1 & 1\\\\8 & 4 & 2 & 1\\\\27 & 9 & 3 & 1\\end{matrix}\\right]$"
      ],
      "text/plain": [
       "⎡0   0  0  1⎤\n",
       "⎢           ⎥\n",
       "⎢1   1  1  1⎥\n",
       "⎢           ⎥\n",
       "⎢8   4  2  1⎥\n",
       "⎢           ⎥\n",
       "⎣27  9  3  1⎦"
      ]
     },
     "execution_count": 46,
     "metadata": {},
     "output_type": "execute_result"
    }
   ],
   "source": [
    "# Change the matrix according to above result\n",
    "m1 = Matrix([[0, 0, 0, 1],\n",
    "             [1, 1, 1, 1],\n",
    "             [8, 4, 2, 1],\n",
    "             [27, 9, 3, 1]])\n",
    "m1"
   ]
  },
  {
   "cell_type": "code",
   "execution_count": 47,
   "metadata": {},
   "outputs": [
    {
     "data": {
      "text/latex": [
       "$\\displaystyle \\left[\\begin{matrix}- \\frac{1}{6} & \\frac{1}{2} & - \\frac{1}{2} & \\frac{1}{6}\\\\1 & - \\frac{5}{2} & 2 & - \\frac{1}{2}\\\\- \\frac{11}{6} & 3 & - \\frac{3}{2} & \\frac{1}{3}\\\\1 & 0 & 0 & 0\\end{matrix}\\right]$"
      ],
      "text/plain": [
       "⎡-1/6   1/2   -1/2  1/6 ⎤\n",
       "⎢                       ⎥\n",
       "⎢  1    -5/2   2    -1/2⎥\n",
       "⎢                       ⎥\n",
       "⎢-11/6   3    -3/2  1/3 ⎥\n",
       "⎢                       ⎥\n",
       "⎣  1     0     0     0  ⎦"
      ]
     },
     "execution_count": 47,
     "metadata": {},
     "output_type": "execute_result"
    }
   ],
   "source": [
    "_.inv()"
   ]
  },
  {
   "cell_type": "code",
   "execution_count": 48,
   "metadata": {},
   "outputs": [],
   "source": [
    "m2 = _"
   ]
  },
  {
   "cell_type": "code",
   "execution_count": 49,
   "metadata": {},
   "outputs": [
    {
     "data": {
      "text/latex": [
       "$\\displaystyle \\left[\\begin{matrix}3\\\\6\\\\12\\\\22\\end{matrix}\\right]$"
      ],
      "text/plain": [
       "⎡3 ⎤\n",
       "⎢  ⎥\n",
       "⎢6 ⎥\n",
       "⎢  ⎥\n",
       "⎢12⎥\n",
       "⎢  ⎥\n",
       "⎣22⎦"
      ]
     },
     "execution_count": 49,
     "metadata": {},
     "output_type": "execute_result"
    }
   ],
   "source": [
    "# Enter the first numbers of the sequence\n",
    "m3 = Matrix([3, 6, 12, 22])\n",
    "m3"
   ]
  },
  {
   "cell_type": "code",
   "execution_count": 50,
   "metadata": {},
   "outputs": [
    {
     "data": {
      "text/latex": [
       "$\\displaystyle \\left[\\begin{matrix}\\frac{1}{6}\\\\1\\\\\\frac{11}{6}\\\\3\\end{matrix}\\right]$"
      ],
      "text/plain": [
       "⎡1/6 ⎤\n",
       "⎢    ⎥\n",
       "⎢ 1  ⎥\n",
       "⎢    ⎥\n",
       "⎢11/6⎥\n",
       "⎢    ⎥\n",
       "⎣ 3  ⎦"
      ]
     },
     "execution_count": 50,
     "metadata": {},
     "output_type": "execute_result"
    }
   ],
   "source": [
    "m2*m3 # Gives the answers for a, b, c, d, ..."
   ]
  }
 ],
 "metadata": {
  "kernelspec": {
   "display_name": ".venv",
   "language": "python",
   "name": "python3"
  },
  "language_info": {
   "codemirror_mode": {
    "name": "ipython",
    "version": 3
   },
   "file_extension": ".py",
   "mimetype": "text/x-python",
   "name": "python",
   "nbconvert_exporter": "python",
   "pygments_lexer": "ipython3",
   "version": "3.13.1"
  }
 },
 "nbformat": 4,
 "nbformat_minor": 2
}
